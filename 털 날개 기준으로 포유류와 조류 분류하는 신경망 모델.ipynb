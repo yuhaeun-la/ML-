{
  "nbformat": 4,
  "nbformat_minor": 0,
  "metadata": {
    "colab": {
      "name": "Untitled11.ipynb",
      "provenance": [],
      "authorship_tag": "ABX9TyNNQERe6iuwP29DD9kb+TNb",
      "include_colab_link": true
    },
    "kernelspec": {
      "name": "python3",
      "display_name": "Python 3"
    }
  },
  "cells": [
    {
      "cell_type": "markdown",
      "metadata": {
        "id": "view-in-github",
        "colab_type": "text"
      },
      "source": [
        "<a href=\"https://colab.research.google.com/github/yuhaeun-la/ML-/blob/master/%ED%84%B8%20%EB%82%A0%EA%B0%9C%20%EA%B8%B0%EC%A4%80%EC%9C%BC%EB%A1%9C%20%ED%8F%AC%EC%9C%A0%EB%A5%98%EC%99%80%20%EC%A1%B0%EB%A5%98%20%EB%B6%84%EB%A5%98%ED%95%98%EB%8A%94%20%EC%8B%A0%EA%B2%BD%EB%A7%9D%20%EB%AA%A8%EB%8D%B8.ipynb\" target=\"_parent\"><img src=\"https://colab.research.google.com/assets/colab-badge.svg\" alt=\"Open In Colab\"/></a>"
      ]
    },
    {
      "cell_type": "code",
      "metadata": {
        "id": "8FyA2Zw-YmBj",
        "colab_type": "code",
        "colab": {
          "base_uri": "https://localhost:8080/",
          "height": 248
        },
        "outputId": "43a196e3-9f2d-4571-962e-ec128e0a89f2"
      },
      "source": [
        "# 털,날개가 있느냐를 기준으로 포유류와 조류를 구분하는 신경망 모델\n",
        "\n",
        "import tensorflow.compat.v1 as tf\n",
        "tf.disable_v2_behavior() \n",
        "import numpy as np\n",
        "\n",
        "x_data=np.array([[0,0],[1,0],[1,1],[0,0],[0,0],[0,1]])\n",
        "y_data=np.array([[1,0,0],[0,1,0],[0,0,1],[1,0,0],[1,0,0],[0,0,1]])\n",
        "\n",
        "X=tf.placeholder(tf.float32)\n",
        "Y=tf.placeholder(tf.float32)\n",
        "\n",
        "W=tf.Variable(tf.random_uniform([2,3],-1.,1.))\n",
        "b=tf.Variable(tf.zeros([3]))\n",
        "\n",
        "L=tf.add(tf.matmul(X,W),b)\n",
        "L=tf.nn.relu(L)\n",
        "\n",
        "model=tf.nn.softmax(L)\n",
        "#신경망을 통해 나온 출력값을 SOFTMAX 함수를 이용하여 사용하기 쉽게 다듬어준다.\n",
        "\n",
        "cost=tf.reduce_mean(-tf.reduce_sum(Y*tf.log(model),axis=1))\n",
        "\n",
        "optimizer=tf.train.GradientDescentOptimizer(learning_rate=0.01)\n",
        "train_op=optimizer.minimize(cost)\n",
        "\n",
        "init=tf.global_variables_initializer()\n",
        "sess=tf.Session()\n",
        "sess.run(init)\n",
        "\n",
        "for step in range(100):\n",
        "  sess.run(train_op, feed_dict={X:x_data, Y:y_data})\n",
        "\n",
        "  if (step+1)%10==0:\n",
        "    print(step+1, sess.run(cost,feed_dict={X:x_data, Y:y_data}))\n",
        "\n",
        "prediction=tf.argmax(model,axis=1)\n",
        "target=tf.argmax(Y,axis=1)\n",
        "print('예측값:', sess.run(prediction, feed_dict={X:x_data}))\n",
        "print('실젯값:', sess.run(target,feed_dict={Y:y_data}))\n",
        "\n",
        "is_correct=tf.equal(prediction,target)\n",
        "accuracy=tf.reduce_mean(tf.cast(is_correct,tf.float32))\n",
        "print('정확도:%.2f'%sess.run(accuracy*100,feed_dict={X:x_data, Y:y_data}))"
      ],
      "execution_count": 3,
      "outputs": [
        {
          "output_type": "stream",
          "text": [
            "10 1.1436316\n",
            "20 1.142302\n",
            "30 1.1409944\n",
            "40 1.1397084\n",
            "50 1.1384437\n",
            "60 1.1371999\n",
            "70 1.1359764\n",
            "80 1.1347731\n",
            "90 1.1335897\n",
            "100 1.1324257\n",
            "예측값: [0 0 0 0 0 1]\n",
            "실젯값: [0 1 2 0 0 2]\n",
            "정확도:50.00\n"
          ],
          "name": "stdout"
        }
      ]
    }
  ]
}