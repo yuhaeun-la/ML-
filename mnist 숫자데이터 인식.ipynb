{
  "nbformat": 4,
  "nbformat_minor": 0,
  "metadata": {
    "colab": {
      "name": "Untitled14.ipynb",
      "provenance": [],
      "authorship_tag": "ABX9TyM6ip7+co6GVgEEbjmrfhdL",
      "include_colab_link": true
    },
    "kernelspec": {
      "name": "python3",
      "display_name": "Python 3"
    }
  },
  "cells": [
    {
      "cell_type": "markdown",
      "metadata": {
        "id": "view-in-github",
        "colab_type": "text"
      },
      "source": [
        "<a href=\"https://colab.research.google.com/github/yuhaeun-la/ML-/blob/master/mnist%20%EC%88%AB%EC%9E%90%EB%8D%B0%EC%9D%B4%ED%84%B0%20%EC%9D%B8%EC%8B%9D.ipynb\" target=\"_parent\"><img src=\"https://colab.research.google.com/assets/colab-badge.svg\" alt=\"Open In Colab\"/></a>"
      ]
    },
    {
      "cell_type": "code",
      "metadata": {
        "id": "K2ON6dgW1arx",
        "colab_type": "code",
        "colab": {}
      },
      "source": [
        "import tensorflow.compat.v1 as tf\n",
        "tf.disable_v2_behavior() \n",
        "import numpy as np\n",
        "\n",
        "from tensorflow.examples.tutorials.mnist import input_data\n",
        "mnist=input_data.read_data_sets(\"./mnist/data/\",one_hot=True)\n",
        "\n",
        "X=tf.placeholder(tf.float32 [None,784])\n",
        "Y=tf.placeholder(tf.float32 [None,10])\n",
        "\n",
        "W1=tf.Variable(tf.random_normal([784,256],stddev=0.01))\n",
        "L1=tf.nn.relu(tf.matmul(X,W1))\n",
        "\n",
        "W2=tf.Variable(tf.random_normal([256,256],stddev=0.01))\n",
        "L2=tf.nn.relu(tf.matmul(L1,W2))\n",
        "\n",
        "W3=tf.Variable(tf.random_normal([256,10],stddev=0.01))\n",
        "model=tf.matmul(L2,W3)\n",
        "\n",
        "cost=tf.reduce_mean(tf.nn.softmax_cross_entropy_with_logits(logits=model,labels=Y))\n",
        "optimizer=tf.train.AdamOptimizer(0.001).minimize(cost)\n",
        "\n",
        "init=tf.global_variables_initializer()\n",
        "sess=tf.Session()\n",
        "sess.run(init)\n",
        "\n",
        "batch_size=100\n",
        "total_batch=int(mnist.train.num_examples/batch_size)\n",
        "for epoch in range(15):\n",
        "  total_cost=0\n",
        "  for i in range(total_batch):\n",
        "    batch_s,batch_ys=mnist.train.next_batch(batch_size)\n",
        "    _,cost_val=sess.run([optimizer,cost],feed_dict={X:batch_xs, Y:batch_ys})\n",
        "    total_cost+=cost_val\n",
        "\n",
        "    print('Epoch:','%04d'%(epoch+1),'Avg.cost=','{:.3f}'.format(total_cost/total_batch))\n",
        "\n",
        "print('최적화 완료')\n",
        "\n",
        "is_correct=tf.equal(tf.argmax(model,1),tf.argmax(Y,1))\n",
        "accuracy=tf.reduce_mean(tf.cast(is_correct,tf.float32))\n",
        "print('정확도:',sess.run(accuracy,feed_dict={X:mnist.test.images,Y:mnist.test.labels,keep_prob:1}))"
      ],
      "execution_count": null,
      "outputs": []
    }
  ]
}